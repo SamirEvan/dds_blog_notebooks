{
 "cells": [
  {
   "cell_type": "code",
   "execution_count": 1,
   "metadata": {},
   "outputs": [],
   "source": [
    "#import libraries and create databse files\n",
    "import sqlite3\n",
    "conn = sqlite3.connect('company_database.db')\n",
    "cur = conn.cursor()"
   ]
  },
  {
   "cell_type": "code",
   "execution_count": 2,
   "metadata": {},
   "outputs": [
    {
     "data": {
      "text/plain": [
       "<sqlite3.Cursor at 0x1c1dd457960>"
      ]
     },
     "execution_count": 2,
     "metadata": {},
     "output_type": "execute_result"
    }
   ],
   "source": [
    "#create the first table\n",
    "cur.execute('''CREATE TABLE company (\n",
    "                                     company_id INTEGER PRIMARY KEY,\n",
    "                                     name TEXT);\n",
    "            ''')"
   ]
  },
  {
   "cell_type": "code",
   "execution_count": 3,
   "metadata": {},
   "outputs": [
    {
     "data": {
      "text/plain": [
       "<sqlite3.Cursor at 0x1c1dd457960>"
      ]
     },
     "execution_count": 3,
     "metadata": {},
     "output_type": "execute_result"
    }
   ],
   "source": [
    "#create the second table\n",
    "cur.execute(''' CREATE TABLE department(\n",
    "                                       company_id INTEGER NOT NULL,\n",
    "                                       dep_id INTEGER NOT NULL,\n",
    "                                       name TEXT\n",
    "                                       PRIMARY KEY (company_id, dep_id),\n",
    "                                       FOREIGN KEY (company_id) REFERENCES company (company_id)\n",
    "                                       );\n",
    "            ''')"
   ]
  },
  {
   "cell_type": "code",
   "execution_count": 4,
   "metadata": {},
   "outputs": [
    {
     "data": {
      "text/plain": [
       "<sqlite3.Cursor at 0x1c1dd457960>"
      ]
     },
     "execution_count": 4,
     "metadata": {},
     "output_type": "execute_result"
    }
   ],
   "source": [
    "#create the third table\n",
    "cur.execute('''CREATE TABLE employee(\n",
    "                                     company_id INTEGER NOT NULL,\n",
    "                                     dep_id INTEGER NOT NULL, \n",
    "                                     emp_id INTEGER NOT NULL,\n",
    "                                     name TEXT\n",
    "                                     mgr_id INTEGER),\n",
    "                                     PRIMARY KEY (company_id, dep_id, emp_id),\n",
    "                                     FOREIGN KEY (company_id) REFERENCES company (company_id),\n",
    "                                     FOREIGN KEY (dep_id) REFERENCES department (dep_id)\n",
    "                                     );\n",
    "            ''')"
   ]
  },
  {
   "cell_type": "code",
   "execution_count": 5,
   "metadata": {},
   "outputs": [
    {
     "data": {
      "text/plain": [
       "<sqlite3.Cursor at 0x1c1dd457960>"
      ]
     },
     "execution_count": 5,
     "metadata": {},
     "output_type": "execute_result"
    }
   ],
   "source": [
    "#populating the company table\n",
    "cur.execute(''' INSERT INTO company (name) VALUES ('Supermarket'),\n",
    "                                                  ('Dairy'),\n",
    "                                                  ('Backpack'),\n",
    "                                                  ('Bike');\n",
    "            ''')"
   ]
  },
  {
   "cell_type": "code",
   "execution_count": 6,
   "metadata": {},
   "outputs": [
    {
     "data": {
      "text/plain": [
       "<sqlite3.Cursor at 0x1c1dd457960>"
      ]
     },
     "execution_count": 6,
     "metadata": {},
     "output_type": "execute_result"
    }
   ],
   "source": [
    "#populating department table\n",
    "cur.execute(''' INSERT INTO department (name) VALUES ('Finance'),\n",
    "                                                  ('HR'),\n",
    "                                                  ('Marketing'),\n",
    "                                                  ('Operations'),\n",
    "                                                  ('IT');\n",
    "            ''')"
   ]
  },
  {
   "cell_type": "code",
   "execution_count": null,
   "metadata": {},
   "outputs": [],
   "source": [
    "#populating employee table"
   ]
  },
  {
   "cell_type": "code",
   "execution_count": null,
   "metadata": {},
   "outputs": [],
   "source": []
  }
 ],
 "metadata": {
  "kernelspec": {
   "display_name": "Python 3",
   "language": "python",
   "name": "python3"
  },
  "language_info": {
   "codemirror_mode": {
    "name": "ipython",
    "version": 3
   },
   "file_extension": ".py",
   "mimetype": "text/x-python",
   "name": "python",
   "nbconvert_exporter": "python",
   "pygments_lexer": "ipython3",
   "version": "3.7.0"
  }
 },
 "nbformat": 4,
 "nbformat_minor": 2
}
