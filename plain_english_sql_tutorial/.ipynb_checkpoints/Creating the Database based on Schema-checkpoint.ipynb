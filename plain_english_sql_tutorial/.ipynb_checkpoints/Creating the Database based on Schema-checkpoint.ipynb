{
 "cells": [
  {
   "cell_type": "code",
   "execution_count": 1,
   "metadata": {},
   "outputs": [],
   "source": [
    "#import libraries and create databse files\n",
    "import sqlite3\n",
    "conn = sqlite3.connect('company_database.db')\n",
    "cur = conn.cursor()"
   ]
  },
  {
   "cell_type": "code",
   "execution_count": 2,
   "metadata": {},
   "outputs": [
    {
     "data": {
      "text/plain": [
       "<sqlite3.Cursor at 0x150dbe87960>"
      ]
     },
     "execution_count": 2,
     "metadata": {},
     "output_type": "execute_result"
    }
   ],
   "source": [
    "#create the company table\n",
    "cur.execute('''CREATE TABLE company (\n",
    "                                     company_id INTEGER PRIMARY KEY,\n",
    "                                     company_name TEXT\n",
    "                                     );\n",
    "            ''')"
   ]
  },
  {
   "cell_type": "code",
   "execution_count": 3,
   "metadata": {},
   "outputs": [
    {
     "data": {
      "text/plain": [
       "<sqlite3.Cursor at 0x150dbe87960>"
      ]
     },
     "execution_count": 3,
     "metadata": {},
     "output_type": "execute_result"
    }
   ],
   "source": [
    "#create the department table\n",
    "cur.execute(''' CREATE TABLE department(\n",
    "                                       dep_id INTEGER PRIMARY KEY,\n",
    "                                       company_name TEXT, \n",
    "                                       dep_name TEXT\n",
    "                                       );\n",
    "            ''')"
   ]
  },
  {
   "cell_type": "code",
   "execution_count": 4,
   "metadata": {},
   "outputs": [
    {
     "data": {
      "text/plain": [
       "<sqlite3.Cursor at 0x150dbe87960>"
      ]
     },
     "execution_count": 4,
     "metadata": {},
     "output_type": "execute_result"
    }
   ],
   "source": [
    "#create the third table\n",
    "cur.execute('''CREATE TABLE employee(\n",
    "                                     company_name TEXT,\n",
    "                                     dep_name TEXT, \n",
    "                                     emp_id INTEGER PRIMARY KEY,\n",
    "                                     emp_name TEXT,\n",
    "                                     mgr_id INTEGER\n",
    "                                     );\n",
    "            ''')"
   ]
  },
  {
   "cell_type": "code",
   "execution_count": 5,
   "metadata": {},
   "outputs": [
    {
     "data": {
      "text/plain": [
       "[]"
      ]
     },
     "execution_count": 5,
     "metadata": {},
     "output_type": "execute_result"
    }
   ],
   "source": [
    "#I will explain this function later in the tutorial. \n",
    "cur.execute('''SELECT * FROM company;''').fetchall()"
   ]
  },
  {
   "cell_type": "code",
   "execution_count": 6,
   "metadata": {},
   "outputs": [
    {
     "data": {
      "text/plain": [
       "<sqlite3.Cursor at 0x150dbe87960>"
      ]
     },
     "execution_count": 6,
     "metadata": {},
     "output_type": "execute_result"
    }
   ],
   "source": [
    "#populating the company table\n",
    "cur.execute(''' INSERT INTO company (company_name) VALUES ('Supermarket'),\n",
    "                                                  ('Sporting Goods'),\n",
    "                                                  ('Department Store'),\n",
    "                                                  ('Appliances');\n",
    "            ''')"
   ]
  },
  {
   "cell_type": "code",
   "execution_count": 7,
   "metadata": {},
   "outputs": [
    {
     "data": {
      "text/plain": [
       "[(1, 'Supermarket'),\n",
       " (2, 'Sporting Goods'),\n",
       " (3, 'Department Store'),\n",
       " (4, 'Appliances')]"
      ]
     },
     "execution_count": 7,
     "metadata": {},
     "output_type": "execute_result"
    }
   ],
   "source": [
    "#checking to make sure I did it right\n",
    "cur.execute('''SELECT * FROM company;''').fetchall()"
   ]
  },
  {
   "cell_type": "code",
   "execution_count": 8,
   "metadata": {},
   "outputs": [
    {
     "data": {
      "text/plain": [
       "<sqlite3.Cursor at 0x150dbe87960>"
      ]
     },
     "execution_count": 8,
     "metadata": {},
     "output_type": "execute_result"
    }
   ],
   "source": [
    "#populating department table\n",
    "cur.execute(''' INSERT INTO department (company_name,dep_name) VALUES ('Supermarket', 'Finance'),\n",
    "                                                              ('Supermarket', 'HR'),\n",
    "                                                              ('Supermarket', 'Marketing'),\n",
    "                                                              ('Supermarket', 'Operations'),\n",
    "                                                              ('Supermarket', 'IT'),\n",
    "                                                              ('Sporting Goods', 'Finance'),\n",
    "                                                              ('Sporting Goods', 'HR'),\n",
    "                                                              ('Sporting Goods', 'Marketing'),\n",
    "                                                              ('Sporting Goods', 'Operations'),\n",
    "                                                              ('Sporting Goods', 'IT'),\n",
    "                                                              ('Department Store', 'Finance'),\n",
    "                                                              ('Department Store', 'HR'),\n",
    "                                                              ('Department Store', 'Marketing'),\n",
    "                                                              ('Department Store', 'Operations'),\n",
    "                                                              ('Department Store', 'IT'),\n",
    "                                                              ('Appliances', 'Finance'),\n",
    "                                                              ('Appliances', 'HR'),\n",
    "                                                              ('Appliances', 'Marketing'),\n",
    "                                                              ('Appliances', 'Operations'),\n",
    "                                                              ('Appliances', 'IT');\n",
    "            ''')"
   ]
  },
  {
   "cell_type": "code",
   "execution_count": 9,
   "metadata": {},
   "outputs": [
    {
     "data": {
      "text/plain": [
       "[(1, 'Supermarket', 'Finance'),\n",
       " (2, 'Supermarket', 'HR'),\n",
       " (3, 'Supermarket', 'Marketing'),\n",
       " (4, 'Supermarket', 'Operations'),\n",
       " (5, 'Supermarket', 'IT'),\n",
       " (6, 'Sporting Goods', 'Finance'),\n",
       " (7, 'Sporting Goods', 'HR'),\n",
       " (8, 'Sporting Goods', 'Marketing'),\n",
       " (9, 'Sporting Goods', 'Operations'),\n",
       " (10, 'Sporting Goods', 'IT'),\n",
       " (11, 'Department Store', 'Finance'),\n",
       " (12, 'Department Store', 'HR'),\n",
       " (13, 'Department Store', 'Marketing'),\n",
       " (14, 'Department Store', 'Operations'),\n",
       " (15, 'Department Store', 'IT'),\n",
       " (16, 'Appliances', 'Finance'),\n",
       " (17, 'Appliances', 'HR'),\n",
       " (18, 'Appliances', 'Marketing'),\n",
       " (19, 'Appliances', 'Operations'),\n",
       " (20, 'Appliances', 'IT')]"
      ]
     },
     "execution_count": 9,
     "metadata": {},
     "output_type": "execute_result"
    }
   ],
   "source": [
    "cur.execute('''SELECT * FROM department;''').fetchall()"
   ]
  },
  {
   "cell_type": "code",
   "execution_count": 10,
   "metadata": {},
   "outputs": [
    {
     "data": {
      "text/plain": [
       "<sqlite3.Cursor at 0x150dbe87960>"
      ]
     },
     "execution_count": 10,
     "metadata": {},
     "output_type": "execute_result"
    }
   ],
   "source": [
    "#populating employee table\n",
    "cur.execute(''' INSERT INTO employee (company_name, dep_name, emp_name, mgr_id) VALUES \n",
    "                                                                                  ('Supermarket', 'Finance', 'Jane', 11),\n",
    "                                                                                  ('Supermarket', 'HR', 'Lola', 12),\n",
    "                                                                                  ('Supermarket', 'Marketing', 'John', 12),\n",
    "                                                                                  ('Supermarket', 'Operations', 'Winston', 13),\n",
    "                                                                                  ('Supermarket', 'IT', 'Sam', 14),\n",
    "                                                                                  ('Sporting Goods', 'Finance', 'Dev', 20),\n",
    "                                                                                  ('Sporting Goods', 'HR', 'Harsh', 21),\n",
    "                                                                                  ('Sporting Goods', 'Marketing', 'Priyanka', 22),\n",
    "                                                                                  ('Sporting Goods', 'Operations', 'Anjali', 23),\n",
    "                                                                                  ('Sporting Goods', 'IT', 'Maneet', 24),\n",
    "                                                                                  ('Department Store', 'Finance', 'Zhang', 30),\n",
    "                                                                                  ('Department Store', 'HR', 'Lihua', 31),\n",
    "                                                                                  ('Department Store', 'Marketing', 'Bohai', 30),\n",
    "                                                                                  ('Department Store', 'Operations', 'Hanhan', 32),\n",
    "                                                                                  ('Department Store', 'IT', 'Liwei', 33 ),\n",
    "                                                                                  ('Appliances', 'Finance', 'Jose', 40),\n",
    "                                                                                  ('Appliances', 'HR', 'Santiago', 41),\n",
    "                                                                                  ('Appliances', 'Marketing', 'Carlos', 42),\n",
    "                                                                                  ('Appliances', 'Operations', 'Manuel', 43),\n",
    "                                                                                  ('Appliances', 'IT', 'Esmeralda', 44);\n",
    "            ''')\n"
   ]
  },
  {
   "cell_type": "code",
   "execution_count": 11,
   "metadata": {
    "scrolled": true
   },
   "outputs": [
    {
     "data": {
      "text/plain": [
       "[('Supermarket', 'Finance', 1, 'Jane', 11),\n",
       " ('Supermarket', 'HR', 2, 'Lola', 12),\n",
       " ('Supermarket', 'Marketing', 3, 'John', 12),\n",
       " ('Supermarket', 'Operations', 4, 'Winston', 13),\n",
       " ('Supermarket', 'IT', 5, 'Sam', 14),\n",
       " ('Sporting Goods', 'Finance', 6, 'Dev', 20),\n",
       " ('Sporting Goods', 'HR', 7, 'Harsh', 21),\n",
       " ('Sporting Goods', 'Marketing', 8, 'Priyanka', 22),\n",
       " ('Sporting Goods', 'Operations', 9, 'Anjali', 23),\n",
       " ('Sporting Goods', 'IT', 10, 'Maneet', 24),\n",
       " ('Department Store', 'Finance', 11, 'Zhang', 30),\n",
       " ('Department Store', 'HR', 12, 'Lihua', 31),\n",
       " ('Department Store', 'Marketing', 13, 'Bohai', 30),\n",
       " ('Department Store', 'Operations', 14, 'Hanhan', 32),\n",
       " ('Department Store', 'IT', 15, 'Liwei', 33),\n",
       " ('Appliances', 'Finance', 16, 'Jose', 40),\n",
       " ('Appliances', 'HR', 17, 'Santiago', 41),\n",
       " ('Appliances', 'Marketing', 18, 'Carlos', 42),\n",
       " ('Appliances', 'Operations', 19, 'Manuel', 43),\n",
       " ('Appliances', 'IT', 20, 'Esmeralda', 44)]"
      ]
     },
     "execution_count": 11,
     "metadata": {},
     "output_type": "execute_result"
    }
   ],
   "source": [
    "cur.execute('''SELECT * FROM employee;''').fetchall()"
   ]
  },
  {
   "cell_type": "code",
   "execution_count": 12,
   "metadata": {},
   "outputs": [],
   "source": [
    "conn.commit() #saving changes"
   ]
  }
 ],
 "metadata": {
  "kernelspec": {
   "display_name": "Python 3",
   "language": "python",
   "name": "python3"
  },
  "language_info": {
   "codemirror_mode": {
    "name": "ipython",
    "version": 3
   },
   "file_extension": ".py",
   "mimetype": "text/x-python",
   "name": "python",
   "nbconvert_exporter": "python",
   "pygments_lexer": "ipython3",
   "version": "3.7.0"
  }
 },
 "nbformat": 4,
 "nbformat_minor": 2
}
